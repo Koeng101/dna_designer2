{
 "cells": [
  {
   "cell_type": "code",
   "execution_count": 16,
   "metadata": {},
   "outputs": [],
   "source": [
    "from dna_designer2 import codons \n",
    "from dna_designer2 import enzymes\n",
    "import re\n",
    "\n",
    "conn = enzymes.build_enzyme_database(db='enzyme.db')"
   ]
  },
  {
   "cell_type": "code",
   "execution_count": 99,
   "metadata": {},
   "outputs": [],
   "source": [
    "class CodingSequence2:\n",
    "    def __init__(self,table,sequence,organism_id=None):\n",
    "        # Add in verification\n",
    "        self.triplets = [codons.Triplet(table,x,organism_id) for x in re.findall('...',sequence)]\n",
    "        \n",
    "    def __str__(self):\n",
    "        return ''.join([str(x) for x in self.triplets])\n",
    "    \n",
    "    def remove_restriction_enzymes(self,conn,enzyme_list):\n",
    "        sequence = ''.join([str(x) for x in self.triplets])\n",
    "        for enzyme in enzymes.enzymes_list_to_regex(conn,enzyme_list):\n",
    "            position = re.search(enzyme['regex_site'] + \"+\", sequence)\n",
    "            offset = 0\n",
    "            while position is not None:\n",
    "                start_triplet = position.start()/3\n",
    "                length_triplet = (position.end() - position.start()-1)/3\n",
    "                try:\n",
    "                    self.triplets[int(start_triplet+offset)].change_codon()\n",
    "                except Exception as e:\n",
    "                    print(e)\n",
    "                    offset+=1\n",
    "                    if offset > length_triplet:\n",
    "                        raise Error('No more codons available to change')\n",
    "\n",
    "                position = re.search(enzyme['regex_site'] + \"+\", ''.join([str(x) for x in self.triplets]))\n",
    "        return ''.join([str(x) for x in self.triplets])\n",
    "        \n",
    "        \n",
    "        "
   ]
  },
  {
   "cell_type": "code",
   "execution_count": 100,
   "metadata": {},
   "outputs": [
    {
     "data": {
      "text/plain": [
       "'ATGGGACTCCAAGGCCTACACGCTATTCAACTTCAACTTGAAGAAGAAATGTTTAACGGCGGTATCCGTCGCTTTGAAGCGGACCAACAACGCCAGATTGCATCCGGTAATGAATCAGACACGGCATGGAATCGCCGCTTATTGTCCGAGTTAATCGCGCCAATGGCTGAAGGTATTCAGGCATACAAGGAAGAGTATGAAGGTAAAAGAGGCCGTGCACCGCGTGCATTAGCTTTCATTAACTGCGTAGAAAACGAAGTGGCAGCATATATCACGATGAAAATCGTTATGGATATGCTGAACACGGATGTAACCTTGCAGGCTATAGCCATGAATGTAGCTGACCGCATTGAGGACCAAGTACGTTTTAGCAAGCTGGAAGGTCACGCCGCCAAATACTTTGAAAAAGTTAAGAAGTCACTTAAGGCAAGTAAGACTAAATCATATCGCCATGCGCACAACGTAGCGGTAGTGGCTGAGAAGTCAGTAGCTGACCGTGACGCTGATTTCTCCCGCTGGGAGGCATGGCCTAAAGACACCTTGCTGCAAATTGGGATGACCTTGCTTGAAATCTTAGAGAATAGCGTATTCTTCAACGGGCAACCTGTCTTCCTCCGCACCTTGCGCACTAATGGCGGCAAACATGGTGTTTACTACCTACAGACTAGTGAACACGTAGGTGAGTGGATAACTGCATTCAAAGAGCACGTAGCGCAACTGAGTCCTGCCTATGCTCCTTGCGTCATCCCTCCGCGTCCGTGGGTATCACCTTTTAACGGCGGTTTCCACACTGAGAAAGTAGCAAGCCGTATTCGTCTGGTAAAAGGAAACCGCGAACACGTCCGCAAGCTGACCAAAAAGCAAATGCCAGAGGTTTACAAGGCTGTTAACGCGTTGCAGGCGACTAAATGGCAGGTTAACAAGGAAGTTTTACAGGTTGTGGAAGACGTCATCCGTCTAGACCTAGGTTATGGTGTACCTTCCTTTAAACCACTCATTGACCGCGAGAACAAGCCAGCTAATCCAGTGCCGCTAGAATTTCAGCACCTACGGGGCCGTGAACTGAAAGAAATGCTTACGCCGGAACAATGGCAAGCCTTTATCAACTGGAAAGGTGAATGTACTAAGCTGTACACCGCTGAAACTAAGCGCGGAAGCAAATCGGCGGCAACCGTTCGCATGGTTGGTCAGGCCCGTAAATATAGCCAGTTCGACGCAATCTACTTCGTGTATGCACTGGACAGCCGCAGCCGCGTCTACGCGCAATCTAGCACACTCTCACCGCAATCAAATGACTTGGGCAAGGCCTTGCTCCGTTTTACCGAAGGGCAGCGTCTTGATAGCGCTGAGGCGCTTAAGTGGTTTTTGGTGAACGGGGCTAATAACTGGGGTTGGGATAAGAAAACTTTTGACGTGCGCACCGCTAACGTGCTGGATAGTGAATTTCAAGACATGTGCCGCGACATTGCAGCGGATCCGCTGACCTTCACTCAATGGGTAAATGCCGACTCCCCTTACGGCTTCCTTGCATGGTGCTTTGAATATGCGCGTTATCTGGATGCACTGGATGAAGGCACGCAAGACCAATTCATGACGCACCTCCCAGTCCATCAAGATGGTAGTTGTTCTGGTATCCAGCACTACAGTGCTATGCTACGCGATGCAGTAGGTGCGAAAGCAGTAAACCTTAAGCCCTCTGACTCTCCTCAAGATATTTATGGTGCCGTTGCGCAGGTAGTAATTCAGAAGAATTATGCATACATGAATGCAGAGGATGCGGAAACCTTCACTTCTGGCAGCGTGACTTTAACAGGTGCGGAGCTGCGTAGTATGGCTAGTGCGTGGGATATGATAGGAATCACTCGCGGCCTGACCAAAAAGCCCGTAATGACACTACCTTATGGCAGCACACGTCTAACCTGCCGTGAGTCAGTGATTGATTATATCGTTGATTTAGAAGAAAAAGAGGCCCAACGGGCTATTGCGGAAGGGCGTACCGCCAATCCTGTACACCCTTTTGATAATGACCGTAAAGACAGCCTGACACCTAGCGCAGCTTATAACTATATGACAGCTTTAATCTGGCCTTCTATTTCGGAAGTGGTTAAAGCCCCTATAGTGGCAATGAAAATGATTCGTCAGCTTGCCCGTTTCGCAGCTAAAAGGAATGAAGGCTTAGAGTATACCCTGCCTACTGGCTTCATCTTGCAACAAAAGATTATGGCTACTGATATGCTCCGCGTATCTACTTGCTTGATGGGAGAAATCAAGATGAGTCTACAGATTGAAACAGACGTAGTGGATGAAACGGCAATGATGGGCGCTGCTGCTCCTAACTTTGTGCATGGTCATGATGCCAGCCACCTTATCTTAACAGTCTGCGACCTTGTTGATAAAGGGATTACATCTATCGCAGTTATTCATGACTCTTTTGGCACTCATGCAGGCCGTACAGCCGACCTTCGTGATAGCTTAAGGGCAGAAATGGTGAAGATGTATCAAGGCCGTAATGCACTGCAAAGCCTGCTAGATGAGCACGAAGAACGCTGGTTAGTTGATACCGGAATACAAGTACCAGAGCAAGGGGAGTTTGACCTTAACGAAATCTTAGTTTCAGACTATTGCTTCGCATAA'"
      ]
     },
     "execution_count": 100,
     "metadata": {},
     "output_type": "execute_result"
    }
   ],
   "source": [
    "k1_5 = 'atgggtctccaaggcctacacgctattcaacttcaacttgaagaagaaatgtttaacggcggtatccgtcgctttgaagcggaccaacaacgccagattgcatccggtaatgaatcagacacggcatggaatcgccgcttattgtccgagttaatcgcgccaatggctgaaggtattcaggcatacaaggaagagtatgaaggtaaaagaggccgtgcaccgcgtgcattagctttcattaactgcgtagaaaacgaagtggcagcatatatcacgatgaaaatcgttatggatatgctgaacacggatgtaaccttgcaggctatagccatgaatgtagctgaccgcattgaggaccaagtacgttttagcaagctggaaggtcacgccgccaaatactttgaaaaagttaagaagtcacttaaggcaagtaagactaaatcatatcgccatgcgcacaacgtagcggtagtggctgagaagtcagtagctgaccgtgacgctgatttctcccgctgggaggcatggcctaaagacaccttgctgcaaattgggatgaccttgcttgaaatcttagagaatagcgtattcttcaacgggcaacctgtcttcctccgcaccttgcgcactaatggcggcaaacatggtgtttactacctacagactagtgaacacgtaggtgagtggataactgcattcaaagagcacgtagcgcaactgagtcctgcctatgctccttgcgtcatccctccgcgtccgtgggtatcaccttttaacggcggtttccacactgagaaagtagcaagccgtattcgtctggtaaaaggaaaccgcgaacacgtccgcaagctgaccaaaaagcaaatgccagaggtttacaaggctgttaacgcgttgcaggcgactaaatggcaggttaacaaggaagttttacaggttgtggaagacgtcatccgtctagacctaggttatggtgtaccttcctttaaaccactcattgaccgcgagaacaagccagctaatccagtgccgctagaatttcagcacctacggggccgtgaactgaaagaaatgcttacgccggaacaatggcaagcctttatcaactggaaaggtgaatgtactaagctgtacaccgctgaaactaagcgcggaagcaaatcggcggcaaccgttcgcatggttggtcaggcccgtaaatatagccagttcgacgcaatctacttcgtgtatgcactggacagccgcagccgcgtctacgcgcaatctagcacactctcaccgcaatcaaatgacttgggcaaggccttgctccgttttaccgaagggcagcgtcttgatagcgctgaggcgcttaagtggtttttggtgaacggggctaataactggggttgggataagaaaacttttgacgtgcgcaccgctaacgtgctggatagtgaatttcaagacatgtgccgcgacattgcagcggatccgctgaccttcactcaatgggtaaatgccgactccccttacggcttccttgcatggtgctttgaatatgcgcgttatctggatgcactggatgaaggcacgcaagaccaattcatgacgcacctcccagtccatcaagatggtagttgttctggtatccagcactacagtgctatgctacgcgatgcagtaggtgcgaaagcagtaaaccttaagccctctgactctcctcaagatatttatggtgccgttgcgcaggtagtaattcagaagaattatgcatacatgaatgcagaggatgcggaaaccttcacttctggcagcgtgactttaacaggtgcggagctgcgtagtatggctagtgcgtgggatatgataggaatcactcgcggcctgaccaaaaagcccgtaatgacactaccttatggcagcacacgtctaacctgccgtgagtcagtgattgattatatcgttgatttagaagaaaaagaggcccaacgggctattgcggaagggcgtaccgccaatcctgtacacccttttgataatgaccgtaaagacagcctgacacctagcgcagcttataactatatgacagctttaatctggccttctatttcggaagtggttaaagcccctatagtggcaatgaaaatgattcgtcagcttgcccgtttcgcagctaaaaggaatgaaggcttagagtataccctgcctactggcttcatcttgcaacaaaagattatggctactgatatgctccgcgtatctacttgcttgatgggagaaatcaagatgagtctacagattgaaacagacgtagtggatgaaacggcaatgatgggcgctgctgctcctaactttgtgcatggtcatgatgccagccaccttatcttaacagtctgcgaccttgttgataaagggattacatctatcgcagttattcatgactcttttggcactcatgcaggccgtacagccgaccttcgtgatagcttaagggcagaaatggtgaagatgtatcaaggccgtaatgcactgcaaagcctgctagatgagcacgaagaacgctggttagttgataccggaatacaagtaccagagcaaggggagtttgaccttaacgaaatcttagtttcagactattgcttcgcataa'.upper()\n",
    "c = codons.CodonDatabase('example.db','NC_000964.3')\n",
    "s = CodingSequence2(c,k1_5)\n",
    "s.remove_restriction_enzymes(conn,['BsaI'])"
   ]
  },
  {
   "cell_type": "code",
   "execution_count": null,
   "metadata": {},
   "outputs": [],
   "source": []
  }
 ],
 "metadata": {
  "kernelspec": {
   "display_name": "Python 3",
   "language": "python",
   "name": "python3"
  },
  "language_info": {
   "codemirror_mode": {
    "name": "ipython",
    "version": 3
   },
   "file_extension": ".py",
   "mimetype": "text/x-python",
   "name": "python",
   "nbconvert_exporter": "python",
   "pygments_lexer": "ipython3",
   "version": "3.8.1"
  }
 },
 "nbformat": 4,
 "nbformat_minor": 2
}

{
 "cells": [
  {
   "cell_type": "code",
   "execution_count": 375,
   "metadata": {},
   "outputs": [],
   "source": [
    "import sqlite3\n",
    "from Bio import SeqIO\n",
    "import random\n",
    "\n",
    "class CodonDatabase:\n",
    "    def __init__(self,database=None,default_organism=None):\n",
    "        if database != None:\n",
    "            self.conn = sqlite3.connect(database)\n",
    "        else:\n",
    "            self.conn = sqlite3.connect(':memory:')\n",
    "        self.default_organism=default_organism\n",
    "        \n",
    "\n",
    "    def build_database(self):\n",
    "        # Database schema of the Codon Database\n",
    "        CREATE_DB =\"\"\"\n",
    "            CREATE TABLE IF NOT EXISTS 'amino_acids' (\n",
    "                'amino_acid' TEXT PRIMARY KEY\n",
    "            );\n",
    "\n",
    "            CREATE TABLE IF NOT EXISTS 'organisms' (\n",
    "                'id' TEXT PRIMARY KEY,\n",
    "                'description' TEXT NOT NULL,\n",
    "                'organism' TEXT NOT NULL\n",
    "            );\n",
    "\n",
    "            CREATE TABLE IF NOT EXISTS 'transl_tables' (\n",
    "                'transl_table' INT PRIMARY KEY\n",
    "            );\n",
    "\n",
    "            CREATE TABLE IF NOT EXISTS 'codons' (\n",
    "                'codon' TEXT NOT NULL,\n",
    "                'codon_count' INTEGER NOT NULL DEFAULT 0,\n",
    "                'amino_acid' TEXT NOT NULL,\n",
    "                'transl_table' INTEGER NOT NULL,\n",
    "                'organism' TEXT NOT NULL,\n",
    "                FOREIGN KEY('amino_acid') REFERENCES 'amino_acids'('amino_acid'),\n",
    "                FOREIGN KEY('transl_table') REFERENCES 'transl_tables'('transl_table'),\n",
    "                FOREIGN KEY('organism') REFERENCES 'organisms'('id')\n",
    "                PRIMARY KEY('codon', 'amino_acid', 'organism')\n",
    "            );\n",
    "\n",
    "            \"\"\"\n",
    "        for x in self.CREATE_DB.split(';'):\n",
    "            self.conn.cursor().execute(x)\n",
    "            \n",
    "        # transl_tables are for 3NF standardization\n",
    "    \n",
    "    def choose_codon(self,aa,organism_id=None,banned=[],gc_bias=None,rare_cutoff=.1):\n",
    "        if organism_id is None:\n",
    "            organism_id=self.default_organism\n",
    "        # Check that the amino acid is valid\n",
    "        valid_aa = 'ARNDBCEQZGHILKMFPSTWYV*'\n",
    "        if aa not in valid_aa:\n",
    "            return ValueError('{} not valid amino acid ({})'.format(aa,valid_aa))\n",
    "        \n",
    "        # Check that all codons aren't banned\n",
    "        codons_per_aa = self.conn.cursor().execute('SELECT COUNT(*) FROM codons WHERE amino_acid = ? AND organism = ?', (aa,organism_id)).fetchone()[0]\n",
    "        if len(banned) >= codons_per_aa:\n",
    "            raise ValueError('Too many banned codons')\n",
    "        \n",
    "        # 1. Build a table with a certain amino acid and a certain codon without any of the banned codons\n",
    "        # 2. Take cumulative probability and, using a random number input from python, select a codon\n",
    "        random_select = \"\"\"\n",
    "            WITH codons_selective AS ( WITH codon_gc AS \n",
    "            ( \n",
    "                   SELECT codon, -- 2. Selects a table with desired amino acid, organism, and no codons from banned list. Also gives gc_content of each codon\n",
    "                          amino_acid, \n",
    "                          organism, \n",
    "                          codon_count, \n",
    "                          ( ( Length(Replace(( Replace(codon, 'T', '') ), 'A', '')) ) * 1.0 ) / Length( codon) AS gc_content\n",
    "                   FROM   ( \n",
    "                                 SELECT * -- 1. Removes rare codons that occur fewer than 10% of the time, though this is configurable. \n",
    "                                 FROM   codons \n",
    "                                 WHERE  (( \n",
    "                                                      codon_count / \n",
    "                                                      ( \n",
    "                                                               SELECT   Sum(codon_count) \n",
    "                                                               FROM     codons \n",
    "                                                               GROUP BY amino_acid)) > ?)) AS common_codons\n",
    "                   WHERE  amino_acid = ?\n",
    "                   AND    organism = ?\n",
    "                   AND    codon NOT IN {}) \n",
    "            SELECT * -- 3. Selects for either high GC or low GC codons \n",
    "            FROM   codon_gc {}) \n",
    "            SELECT   codon, -- Calculates cumulative probability of each codon based on occurrence, then chooses one, given a random number 0-1 \n",
    "                     Cast( \n",
    "                            ( \n",
    "                            SELECT Sum(codon_count) \n",
    "                            FROM   codons_selective AS c \n",
    "                            WHERE  c.codon <= codons_selective.codon) AS FLOAT) / \n",
    "                     ( \n",
    "                            SELECT Sum(codon_count) \n",
    "                            FROM   codons_selective) AS probability \n",
    "            FROM     codons_selective \n",
    "            ORDER BY Abs(probability - Abs(Random() / 18446744073709551616 + 0.5)) -- Number comes from https://www.sqlite.org/lang_corefunc.html#random \n",
    "                     ASC limit 1\n",
    "            \"\"\" # https://stackoverflow.com/questions/50534961/sqlite-how-to-select-rows-based-on-probability-via-integer-value\n",
    "        if gc_bias == 'GC':\n",
    "            gc_bias_string = 'WHERE  gc_content = (SELECT Max(gc_content) FROM codon_gc)'\n",
    "        if gc_bias == 'AT':\n",
    "            gc_bias_string = 'WHERE  gc_content = (SELECT Min(gc_content) FROM codon_gc)'\n",
    "        else:\n",
    "            gc_bias_string = ''\n",
    "        try:\n",
    "            # Select a codon. First, add in a variable number of ? for banned codons, then run above statement. Fetch first codon of first result\n",
    "            r = self.conn.cursor().execute(random_select.format('(' + ','.join([\"?\" for _ in banned]) + ')',gc_bias_string), (rare_cutoff,aa,organism_id,)+tuple(banned)).fetchone()[0]\n",
    "        except Exception as e:\n",
    "            # If there is a value error, it is likely that the organism is not in the database\n",
    "            raise ValueError('Organism or amino acid not found in database')\n",
    "        return r\n",
    "    \n",
    "    def optimize_sequence(self,protein_seq,organism_id):\n",
    "        if organism_id is None:\n",
    "            organism_id = self.default_organism\n",
    "        return ''.join([self.choose_codon(organism_id, codon) for codon in protein_seq])\n",
    "    \n",
    "    def build_from_genbank(self,genbank_file):\n",
    "        c = self.conn.cursor()\n",
    "        self.build_database()\n",
    "\n",
    "        # Add amino acids\n",
    "        amino_acids = 'ARNDBCEQZGHILKMFPSTWYV*'\n",
    "        c.executemany('INSERT OR IGNORE INTO amino_acids(amino_acid) VALUES(?)', [(x,) for x in amino_acids])\n",
    "\n",
    "        #Add codons\n",
    "        from Bio import SeqIO\n",
    "        for record in SeqIO.parse(genbank_file, \"genbank\"):\n",
    "            c.execute('INSERT OR IGNORE INTO organisms(id,description,organism) VALUES(?,?,?)', (record.id, record.description,record.annotations['organism']))\n",
    "            self.default_organism = record.id\n",
    "            for feature in record.features:\n",
    "                if 'translation' in feature.qualifiers:\n",
    "                    translation = feature.qualifiers['translation'][0] + '*'\n",
    "                    seq = feature.extract(record).seq\n",
    "                    c.execute('INSERT OR IGNORE INTO transl_tables(transl_table) VALUES(?)', (int(feature.qualifiers['transl_table'][0]),))\n",
    "                    c.executemany('INSERT OR IGNORE INTO codons(amino_acid,codon,organism,transl_table) VALUES(?,?,?,?)', [(aa,str(seq[i*3:i*3+3]),record.id,int(feature.qualifiers['transl_table'][0])) for i,aa in enumerate(translation)])\n",
    "                    c.executemany('UPDATE codons SET codon_count = codon_count + 1 WHERE amino_acid = ? AND codon = ? AND organism = ?', [(aa,str(seq[i*3:i*3+3]),record.id) for i,aa in enumerate(translation)])\n",
    "\n",
    "        self.conn.commit()\n",
    "        return self\n",
    "    \n",
    "    def codon_to_aa(self,codon,organism_id=None):\n",
    "        if organism_id is None:\n",
    "            organism_id = self.default_organism\n",
    "        return self.conn.cursor().execute('SELECT amino_acid FROM codons WHERE codon = ? AND organism = ? ORDER BY codon_count DESC', (codon,organism_id)).fetchone()[0]\n",
    "    \n",
    "    def dump_codon_database(self):\n",
    "        return '\\n'.join([line for line in self.conn.iterdump()])\n",
    "    \n",
    "    \n"
   ]
  },
  {
   "cell_type": "code",
   "execution_count": 376,
   "metadata": {},
   "outputs": [],
   "source": [
    "c = CodonDatabase('example.db','NC_000964.3')"
   ]
  },
  {
   "cell_type": "code",
   "execution_count": 377,
   "metadata": {},
   "outputs": [],
   "source": [
    "class Triplet:\n",
    "    def __init__(self,table,codon,organism_id=None,banned=[]):\n",
    "        self.table = table\n",
    "        self.codon = codon\n",
    "        self.aa = self.table.codon_to_aa(codon,organism_id)\n",
    "        self.organism_id = organism_id\n",
    "        if banned is None:\n",
    "            banned = []\n",
    "        banned.append(codon)\n",
    "        self.banned= list(set(banned))\n",
    "    \n",
    "    def change_codon(self, gc_bias=None):\n",
    "        new_codon = self.table.choose_codon(self.aa,self.organism_id,self.banned,gc_bias=gc_bias)\n",
    "        self.codon = new_codon\n",
    "        self.banned.append(new_codon)\n",
    "        return new_codon\n",
    "\n",
    "    def __str__(self):\n",
    "        return self.codon\n",
    "\n",
    "    \n",
    "t = Triplet(c,'CTG')\n",
    "        "
   ]
  },
  {
   "cell_type": "code",
   "execution_count": 378,
   "metadata": {},
   "outputs": [
    {
     "data": {
      "text/plain": [
       "'TTA'"
      ]
     },
     "execution_count": 378,
     "metadata": {},
     "output_type": "execute_result"
    }
   ],
   "source": [
    "t.change_codon(gc_bias='AT')"
   ]
  },
  {
   "cell_type": "code",
   "execution_count": 297,
   "metadata": {},
   "outputs": [],
   "source": [
    "import re\n",
    "\n",
    "class CodingSequence:\n",
    "    def __init__(self,table,sequence,organism_id=None):\n",
    "        # Add in verification\n",
    "        self.triplets = [Triplet(table,x,organism_id) for x in re.findall('...',sequence)]\n",
    "        \n",
    "    def __str__(self):\n",
    "        return ''.join([str(x) for x in self.triplets])\n",
    "    "
   ]
  },
  {
   "cell_type": "code",
   "execution_count": 268,
   "metadata": {},
   "outputs": [],
   "source": [
    "s = CodingSequence(c,k1_5)"
   ]
  },
  {
   "cell_type": "code",
   "execution_count": 269,
   "metadata": {},
   "outputs": [
    {
     "data": {
      "text/plain": [
       "'ATGCAAGGCCTACACGCTATTCAACTTCAACTTGAAGAAGAAATGTTTAACGGCGGTATCCGTCGCTTTGAAGCGGACCAACAACGCCAGATTGCATCCGGTAATGAATCAGACACGGCATGGAATCGCCGCTTATTGTCCGAGTTAATCGCGCCAATGGCTGAAGGTATTCAGGCATACAAGGAAGAGTATGAAGGTAAAAGAGGCCGTGCACCGCGTGCATTAGCTTTCATTAACTGCGTAGAAAACGAAGTGGCAGCATATATCACGATGAAAATCGTTATGGATATGCTGAACACGGATGTAACCTTGCAGGCTATAGCCATGAATGTAGCTGACCGCATTGAGGACCAAGTACGTTTTAGCAAGCTGGAAGGTCACGCCGCCAAATACTTTGAAAAAGTTAAGAAGTCACTTAAGGCAAGTAAGACTAAATCATATCGCCATGCGCACAACGTAGCGGTAGTGGCTGAGAAGTCAGTAGCTGACCGTGACGCTGATTTCTCCCGCTGGGAGGCATGGCCTAAAGACACCTTGCTGCAAATTGGGATGACCTTGCTTGAAATCTTAGAGAATAGCGTATTCTTCAACGGGCAACCTGTCTTCCTCCGCACCTTGCGCACTAATGGCGGCAAACATGGTGTTTACTACCTACAGACTAGTGAACACGTAGGTGAGTGGATAACTGCATTCAAAGAGCACGTAGCGCAACTGAGTCCTGCCTATGCTCCTTGCGTCATCCCTCCGCGTCCGTGGGTATCACCTTTTAACGGCGGTTTCCACACTGAGAAAGTAGCAAGCCGTATTCGTCTGGTAAAAGGAAACCGCGAACACGTCCGCAAGCTGACCAAAAAGCAAATGCCAGAGGTTTACAAGGCTGTTAACGCGTTGCAGGCGACTAAATGGCAGGTTAACAAGGAAGTTTTACAGGTTGTGGAAGACGTCATCCGTCTAGACCTAGGTTATGGTGTACCTTCCTTTAAACCACTCATTGACCGCGAGAACAAGCCAGCTAATCCAGTGCCGCTAGAATTTCAGCACCTACGGGGCCGTGAACTGAAAGAAATGCTTACGCCGGAACAATGGCAAGCCTTTATCAACTGGAAAGGTGAATGTACTAAGCTGTACACCGCTGAAACTAAGCGCGGAAGCAAATCGGCGGCAACCGTTCGCATGGTTGGTCAGGCCCGTAAATATAGCCAGTTCGACGCAATCTACTTCGTGTATGCACTGGACAGCCGCAGCCGCGTCTACGCGCAATCTAGCACACTCTCACCGCAATCAAATGACTTGGGCAAGGCCTTGCTCCGTTTTACCGAAGGGCAGCGTCTTGATAGCGCTGAGGCGCTTAAGTGGTTTTTGGTGAACGGGGCTAATAACTGGGGTTGGGATAAGAAAACTTTTGACGTGCGCACCGCTAACGTGCTGGATAGTGAATTTCAAGACATGTGCCGCGACATTGCAGCGGATCCGCTGACCTTCACTCAATGGGTAAATGCCGACTCCCCTTACGGCTTCCTTGCATGGTGCTTTGAATATGCGCGTTATCTGGATGCACTGGATGAAGGCACGCAAGACCAATTCATGACGCACCTCCCAGTCCATCAAGATGGTAGTTGTTCTGGTATCCAGCACTACAGTGCTATGCTACGCGATGCAGTAGGTGCGAAAGCAGTAAACCTTAAGCCCTCTGACTCTCCTCAAGATATTTATGGTGCCGTTGCGCAGGTAGTAATTCAGAAGAATTATGCATACATGAATGCAGAGGATGCGGAAACCTTCACTTCTGGCAGCGTGACTTTAACAGGTGCGGAGCTGCGTAGTATGGCTAGTGCGTGGGATATGATAGGAATCACTCGCGGCCTGACCAAAAAGCCCGTAATGACACTACCTTATGGCAGCACACGTCTAACCTGCCGTGAGTCAGTGATTGATTATATCGTTGATTTAGAAGAAAAAGAGGCCCAACGGGCTATTGCGGAAGGGCGTACCGCCAATCCTGTACACCCTTTTGATAATGACCGTAAAGACAGCCTGACACCTAGCGCAGCTTATAACTATATGACAGCTTTAATCTGGCCTTCTATTTCGGAAGTGGTTAAAGCCCCTATAGTGGCAATGAAAATGATTCGTCAGCTTGCCCGTTTCGCAGCTAAAAGGAATGAAGGCTTAGAGTATACCCTGCCTACTGGCTTCATCTTGCAACAAAAGATTATGGCTACTGATATGCTCCGCGTATCTACTTGCTTGATGGGAGAAATCAAGATGAGTCTACAGATTGAAACAGACGTAGTGGATGAAACGGCAATGATGGGCGCTGCTGCTCCTAACTTTGTGCATGGTCATGATGCCAGCCACCTTATCTTAACAGTCTGCGACCTTGTTGATAAAGGGATTACATCTATCGCAGTTATTCATGACTCTTTTGGCACTCATGCAGGCCGTACAGCCGACCTTCGTGATAGCTTAAGGGCAGAAATGGTGAAGATGTATCAAGGCCGTAATGCACTGCAAAGCCTGCTAGATGAGCACGAAGAACGCTGGTTAGTTGATACCGGAATACAAGTACCAGAGCAAGGGGAGTTTGACCTTAACGAAATCTTAGTTTCAGACTATTGCTTCGCATAA'"
      ]
     },
     "execution_count": 269,
     "metadata": {},
     "output_type": "execute_result"
    }
   ],
   "source": [
    "str(s)"
   ]
  },
  {
   "cell_type": "code",
   "execution_count": 237,
   "metadata": {},
   "outputs": [],
   "source": [
    "k1_5 = 'atgcaaggcctacacgctattcaacttcaacttgaagaagaaatgtttaacggcggtatccgtcgctttgaagcggaccaacaacgccagattgcatccggtaatgaatcagacacggcatggaatcgccgcttattgtccgagttaatcgcgccaatggctgaaggtattcaggcatacaaggaagagtatgaaggtaaaagaggccgtgcaccgcgtgcattagctttcattaactgcgtagaaaacgaagtggcagcatatatcacgatgaaaatcgttatggatatgctgaacacggatgtaaccttgcaggctatagccatgaatgtagctgaccgcattgaggaccaagtacgttttagcaagctggaaggtcacgccgccaaatactttgaaaaagttaagaagtcacttaaggcaagtaagactaaatcatatcgccatgcgcacaacgtagcggtagtggctgagaagtcagtagctgaccgtgacgctgatttctcccgctgggaggcatggcctaaagacaccttgctgcaaattgggatgaccttgcttgaaatcttagagaatagcgtattcttcaacgggcaacctgtcttcctccgcaccttgcgcactaatggcggcaaacatggtgtttactacctacagactagtgaacacgtaggtgagtggataactgcattcaaagagcacgtagcgcaactgagtcctgcctatgctccttgcgtcatccctccgcgtccgtgggtatcaccttttaacggcggtttccacactgagaaagtagcaagccgtattcgtctggtaaaaggaaaccgcgaacacgtccgcaagctgaccaaaaagcaaatgccagaggtttacaaggctgttaacgcgttgcaggcgactaaatggcaggttaacaaggaagttttacaggttgtggaagacgtcatccgtctagacctaggttatggtgtaccttcctttaaaccactcattgaccgcgagaacaagccagctaatccagtgccgctagaatttcagcacctacggggccgtgaactgaaagaaatgcttacgccggaacaatggcaagcctttatcaactggaaaggtgaatgtactaagctgtacaccgctgaaactaagcgcggaagcaaatcggcggcaaccgttcgcatggttggtcaggcccgtaaatatagccagttcgacgcaatctacttcgtgtatgcactggacagccgcagccgcgtctacgcgcaatctagcacactctcaccgcaatcaaatgacttgggcaaggccttgctccgttttaccgaagggcagcgtcttgatagcgctgaggcgcttaagtggtttttggtgaacggggctaataactggggttgggataagaaaacttttgacgtgcgcaccgctaacgtgctggatagtgaatttcaagacatgtgccgcgacattgcagcggatccgctgaccttcactcaatgggtaaatgccgactccccttacggcttccttgcatggtgctttgaatatgcgcgttatctggatgcactggatgaaggcacgcaagaccaattcatgacgcacctcccagtccatcaagatggtagttgttctggtatccagcactacagtgctatgctacgcgatgcagtaggtgcgaaagcagtaaaccttaagccctctgactctcctcaagatatttatggtgccgttgcgcaggtagtaattcagaagaattatgcatacatgaatgcagaggatgcggaaaccttcacttctggcagcgtgactttaacaggtgcggagctgcgtagtatggctagtgcgtgggatatgataggaatcactcgcggcctgaccaaaaagcccgtaatgacactaccttatggcagcacacgtctaacctgccgtgagtcagtgattgattatatcgttgatttagaagaaaaagaggcccaacgggctattgcggaagggcgtaccgccaatcctgtacacccttttgataatgaccgtaaagacagcctgacacctagcgcagcttataactatatgacagctttaatctggccttctatttcggaagtggttaaagcccctatagtggcaatgaaaatgattcgtcagcttgcccgtttcgcagctaaaaggaatgaaggcttagagtataccctgcctactggcttcatcttgcaacaaaagattatggctactgatatgctccgcgtatctacttgcttgatgggagaaatcaagatgagtctacagattgaaacagacgtagtggatgaaacggcaatgatgggcgctgctgctcctaactttgtgcatggtcatgatgccagccaccttatcttaacagtctgcgaccttgttgataaagggattacatctatcgcagttattcatgactcttttggcactcatgcaggccgtacagccgaccttcgtgatagcttaagggcagaaatggtgaagatgtatcaaggccgtaatgcactgcaaagcctgctagatgagcacgaagaacgctggttagttgataccggaatacaagtaccagagcaaggggagtttgaccttaacgaaatcttagtttcagactattgcttcgcataa'.upper()"
   ]
  },
  {
   "cell_type": "code",
   "execution_count": 379,
   "metadata": {},
   "outputs": [
    {
     "data": {
      "text/plain": [
       "23"
      ]
     },
     "execution_count": 379,
     "metadata": {},
     "output_type": "execute_result"
    }
   ],
   "source": [
    "len('ARNDBCEQZGHILKMFPSTWYV*')"
   ]
  }
 ],
 "metadata": {
  "kernelspec": {
   "display_name": "Python 3",
   "language": "python",
   "name": "python3"
  },
  "language_info": {
   "codemirror_mode": {
    "name": "ipython",
    "version": 3
   },
   "file_extension": ".py",
   "mimetype": "text/x-python",
   "name": "python",
   "nbconvert_exporter": "python",
   "pygments_lexer": "ipython3",
   "version": "3.8.1"
  }
 },
 "nbformat": 4,
 "nbformat_minor": 2
}

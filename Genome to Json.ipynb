{
 "cells": [
  {
   "cell_type": "code",
   "execution_count": 394,
   "metadata": {},
   "outputs": [],
   "source": [
    "import sqlite3\n",
    "from Bio import SeqIO\n",
    "\n",
    "class CodonDatabase:\n",
    "    def __init__(self,database=None):\n",
    "        if database != None:\n",
    "            self.conn = sqlite3.connect(database)\n",
    "    \n",
    "    # Database schema of the Codon Database\n",
    "    CREATE_DB =\"\"\"\n",
    "        CREATE TABLE IF NOT EXISTS 'amino_acids' (\n",
    "            'amino_acid' TEXT PRIMARY KEY\n",
    "        );\n",
    "\n",
    "        CREATE TABLE IF NOT EXISTS 'organisms' (\n",
    "            'id' TEXT PRIMARY KEY,\n",
    "            'description' TEXT NOT NULL,\n",
    "            'organism' TEXT NOT NULL\n",
    "        );\n",
    "\n",
    "        CREATE TABLE IF NOT EXISTS 'transl_tables' (\n",
    "            'transl_table' INT PRIMARY KEY\n",
    "        );\n",
    "\n",
    "        CREATE TABLE IF NOT EXISTS 'codons' (\n",
    "            'codon' TEXT NOT NULL,\n",
    "            'codon_count' INTEGER NOT NULL DEFAULT 0,\n",
    "            'amino_acid' TEXT NOT NULL,\n",
    "            'transl_table' INTEGER NOT NULL,\n",
    "            'organism' TEXT NOT NULL,\n",
    "            FOREIGN KEY('amino_acid') REFERENCES 'amino_acids'('amino_acid'),\n",
    "            FOREIGN KEY('transl_table') REFERENCES 'transl_tables'('transl_table'),\n",
    "            FOREIGN KEY('organism') REFERENCES 'organisms'('id')\n",
    "            PRIMARY KEY('codon', 'amino_acid', 'organism')\n",
    "        );\n",
    "\n",
    "        \"\"\"\n",
    "        # transl_tables are for 3NF standardization\n",
    "    \n",
    "    def choose_codon(self,organism_id,aa,banned=[]):\n",
    "        # Check that the amino acid is valid\n",
    "        valid_aa = 'ARNDBCEQZGHILKMFPSTWYV*'\n",
    "        if aa not in valid_aa:\n",
    "            return ValueError('{} not valid amino acid ({})'.format(aa,valid_aa))\n",
    "        # 1. Build a table with a certain amino acid and a certain codon without any of the banned codons\n",
    "        # 2. Take cumulative probability and, using a random number input from python, select a codon\n",
    "        random_select = \"\"\"\n",
    "            WITH codons_selective(codon,amino_acid,codon_count) AS (\n",
    "                SELECT codon, amino_acid, codon_count FROM codons WHERE amino_acid = ? AND organism = ? AND codon NOT IN {}\n",
    "                )\n",
    "            SELECT codon, CAST((SELECT sum(codon_count) FROM codons_selective AS c WHERE c.codon <= codons_selective.codon) AS FLOAT) / (SELECT sum(codon_count) FROM codons_selective) as probability FROM codons_selective\n",
    "            WHERE probability >= ?\n",
    "            ORDER BY probability ASC\n",
    "            LIMIT 1;\n",
    "            \"\"\" # https://stackoverflow.com/questions/50534961/sqlite-how-to-select-rows-based-on-probability-via-integer-value\n",
    "        try:\n",
    "            # Select a codon. First, add in a variable number of ? for banned codons, then run above statement. Fetch first codon of first result\n",
    "            r = self.conn.cursor().execute(random_select.format('(' + ','.join([\"?\" for _ in banned]) + ')'), (aa,organism_id,)+tuple(banned)+(random.uniform(0,1),)).fetchone()[0]\n",
    "        except Exception as e:\n",
    "            # If there is a value error, it is likely that the organism is not in the database\n",
    "            raise ValueError('Organism or amino acid not found in database')\n",
    "        return r\n",
    "    \n",
    "    def optimize_sequence(self,organism_id,protein_seq):\n",
    "        return ''.join([self.choose_codon(organism_id, codon) for codon in protein_seq])\n",
    "    \n",
    "    def build_from_genbank(self,genbank_file):\n",
    "        self.conn = sqlite3.connect(':memory:')\n",
    "        c = self.conn.cursor()\n",
    "        \n",
    "        for x in self.CREATE_DB.split(';'):\n",
    "            c.execute(x)\n",
    "\n",
    "        # Add amino acids\n",
    "        amino_acids = 'ARNDBCEQZGHILKMFPSTWYV*'\n",
    "        c.executemany('INSERT OR IGNORE INTO amino_acids(amino_acid) VALUES(?)', [(x,) for x in amino_acids])\n",
    "\n",
    "        #Add codons\n",
    "        from Bio import SeqIO\n",
    "        for record in SeqIO.parse(genbank_file, \"genbank\"):\n",
    "            c.execute('INSERT OR IGNORE INTO organisms(id,description,organism) VALUES(?,?,?)', (record.id, record.description,record.annotations['organism']))\n",
    "            for feature in record.features:\n",
    "                if 'translation' in feature.qualifiers:\n",
    "                    translation = feature.qualifiers['translation'][0] + '*'\n",
    "                    seq = feature.extract(record).seq\n",
    "                    c.execute('INSERT OR IGNORE INTO transl_tables(transl_table) VALUES(?)', (int(feature.qualifiers['transl_table'][0]),))\n",
    "                    c.executemany('INSERT OR IGNORE INTO codons(amino_acid,codon,organism,transl_table) VALUES(?,?,?,?)', [(aa,str(seq[i*3:i*3+3]),record.id,int(feature.qualifiers['transl_table'][0])) for i,aa in enumerate(translation)])\n",
    "                    c.executemany('UPDATE codons SET codon_count = codon_count + 1 WHERE amino_acid = ? AND codon = ? AND organism = ?', [(aa,str(seq[i*3:i*3+3]),record.id) for i,aa in enumerate(translation)])\n",
    "\n",
    "        self.conn.commit()\n",
    "        return self\n",
    "    \n",
    "    def dump_codon_database(self):\n",
    "        return '\\n'.join([line for line in self.conn.iterdump()])\n"
   ]
  },
  {
   "cell_type": "code",
   "execution_count": 395,
   "metadata": {},
   "outputs": [],
   "source": [
    "c = CodonDatabase().build_from_genbank('sequence.gb')"
   ]
  },
  {
   "cell_type": "code",
   "execution_count": 396,
   "metadata": {},
   "outputs": [
    {
     "data": {
      "text/plain": [
       "'BEGIN TRANSACTION;\\nCREATE TABLE \\'amino_acids\\' (\\n            \\'amino_acid\\' TEXT PRIMARY KEY\\n        );\\nINSERT INTO \"amino_acids\" VALUES(\\'A\\');\\nINSERT INTO \"amino_acids\" VALUES(\\'R\\');\\nINSERT INTO \"amino_acids\" VALUES(\\'N\\');\\nINSERT INTO \"amino_acids\" VALUES(\\'D\\');\\nINSERT INTO \"amino_acids\" VALUES(\\'B\\');\\nINSERT INTO \"amino_acids\" VALUES(\\'C\\');\\nINSERT INTO \"amino_acids\" VALUES(\\'E\\');\\nINSERT INTO \"amino_acids\" VALUES(\\'Q\\');\\nINSERT INTO \"amino_acids\" VALUES(\\'Z\\');\\nINSERT INTO \"amino_acids\" VALUES(\\'G\\');\\nINSERT INTO \"amino_acids\" VALUES(\\'H\\');\\nINSERT INTO \"amino_acids\" VALUES(\\'I\\');\\nINSERT INTO \"amino_acids\" VALUES(\\'L\\');\\nINSERT INTO \"amino_acids\" VALUES(\\'K\\');\\nINSERT INTO \"amino_acids\" VALUES(\\'M\\');\\nINSERT INTO \"amino_acids\" VALUES(\\'F\\');\\nINSERT INTO \"amino_acids\" VALUES(\\'P\\');\\nINSERT INTO \"amino_acids\" VALUES(\\'S\\');\\nINSERT INTO \"amino_acids\" VALUES(\\'T\\');\\nINSERT INTO \"amino_acids\" VALUES(\\'W\\');\\nINSERT INTO \"amino_acids\" VALUES(\\'Y\\');\\nINSERT INTO \"amino_acids\" VALUES(\\'V\\');\\nINSERT INTO \"amino_acids\" VALUES(\\'*\\');\\nCREATE TABLE \\'codons\\' (\\n            \\'codon\\' TEXT NOT NULL,\\n            \\'codon_count\\' INTEGER NOT NULL DEFAULT 0,\\n            \\'amino_acid\\' TEXT NOT NULL,\\n            \\'transl_table\\' INTEGER NOT NULL,\\n            \\'organism\\' TEXT NOT NULL,\\n            FOREIGN KEY(\\'amino_acid\\') REFERENCES \\'amino_acids\\'(\\'amino_acid\\'),\\n            FOREIGN KEY(\\'transl_table\\') REFERENCES \\'transl_tables\\'(\\'transl_table\\'),\\n            FOREIGN KEY(\\'organism\\') REFERENCES \\'organisms\\'(\\'id\\')\\n            PRIMARY KEY(\\'codon\\', \\'amino_acid\\', \\'organism\\')\\n        );\\nINSERT INTO \"codons\" VALUES(\\'ATG\\',33365,\\'M\\',11,\\'NC_000964.3\\');\\nINSERT INTO \"codons\" VALUES(\\'GAA\\',60708,\\'E\\',11,\\'NC_000964.3\\');\\nINSERT INTO \"codons\" VALUES(\\'AAT\\',27499,\\'N\\',11,\\'NC_000964.3\\');\\nINSERT INTO \"codons\" VALUES(\\'ATA\\',11619,\\'I\\',11,\\'NC_000964.3\\');\\nINSERT INTO \"codons\" VALUES(\\'TTA\\',23665,\\'L\\',11,\\'NC_000964.3\\');\\nINSERT INTO \"codons\" VALUES(\\'GAC\\',22949,\\'D\\',11,\\'NC_000964.3\\');\\nINSERT INTO \"codons\" VALUES(\\'CTG\\',28681,\\'L\\',11,\\'NC_000964.3\\');\\nINSERT INTO \"codons\" VALUES(\\'TGG\\',12722,\\'W\\',11,\\'NC_000964.3\\');\\nINSERT INTO \"codons\" VALUES(\\'AAC\\',21134,\\'N\\',11,\\'NC_000964.3\\');\\nINSERT INTO \"codons\" VALUES(\\'CAA\\',24201,\\'Q\\',11,\\'NC_000964.3\\');\\nINSERT INTO \"codons\" VALUES(\\'GCC\\',19592,\\'A\\',11,\\'NC_000964.3\\');\\nINSERT INTO \"codons\" VALUES(\\'CTT\\',28582,\\'L\\',11,\\'NC_000964.3\\');\\nINSERT INTO \"codons\" VALUES(\\'GCT\\',23388,\\'A\\',11,\\'NC_000964.3\\');\\nINSERT INTO \"codons\" VALUES(\\'ATC\\',33303,\\'I\\',11,\\'NC_000964.3\\');\\nINSERT INTO \"codons\" VALUES(\\'AAA\\',61016,\\'K\\',11,\\'NC_000964.3\\');\\nINSERT INTO \"codons\" VALUES(\\'AAG\\',25943,\\'K\\',11,\\'NC_000964.3\\');\\nINSERT INTO \"codons\" VALUES(\\'TTG\\',18465,\\'L\\',11,\\'NC_000964.3\\');\\nINSERT INTO \"codons\" VALUES(\\'AGC\\',17429,\\'S\\',11,\\'NC_000964.3\\');\\nINSERT INTO \"codons\" VALUES(\\'CCG\\',19582,\\'P\\',11,\\'NC_000964.3\\');\\nINSERT INTO \"codons\" VALUES(\\'AGT\\',8168,\\'S\\',11,\\'NC_000964.3\\');\\nINSERT INTO \"codons\" VALUES(\\'TTT\\',37929,\\'F\\',11,\\'NC_000964.3\\');\\nINSERT INTO \"codons\" VALUES(\\'GAG\\',28594,\\'E\\',11,\\'NC_000964.3\\');\\nINSERT INTO \"codons\" VALUES(\\'ACT\\',10761,\\'T\\',11,\\'NC_000964.3\\');\\nINSERT INTO \"codons\" VALUES(\\'TCA\\',18267,\\'S\\',11,\\'NC_000964.3\\');\\nINSERT INTO \"codons\" VALUES(\\'ACC\\',10596,\\'T\\',11,\\'NC_000964.3\\');\\nINSERT INTO \"codons\" VALUES(\\'CAC\\',9124,\\'H\\',11,\\'NC_000964.3\\');\\nINSERT INTO \"codons\" VALUES(\\'GGC\\',28905,\\'G\\',11,\\'NC_000964.3\\');\\nINSERT INTO \"codons\" VALUES(\\'GAT\\',40833,\\'D\\',11,\\'NC_000964.3\\');\\nINSERT INTO \"codons\" VALUES(\\'ACA\\',27484,\\'T\\',11,\\'NC_000964.3\\');\\nINSERT INTO \"codons\" VALUES(\\'ACG\\',17875,\\'T\\',11,\\'NC_000964.3\\');\\nINSERT INTO \"codons\" VALUES(\\'CCC\\',4003,\\'P\\',11,\\'NC_000964.3\\');\\nINSERT INTO \"codons\" VALUES(\\'AGA\\',13238,\\'R\\',11,\\'NC_000964.3\\');\\nINSERT INTO \"codons\" VALUES(\\'TCC\\',9831,\\'S\\',11,\\'NC_000964.3\\');\\nINSERT INTO \"codons\" VALUES(\\'TAC\\',14862,\\'Y\\',11,\\'NC_000964.3\\');\\nINSERT INTO \"codons\" VALUES(\\'CAT\\',18812,\\'H\\',11,\\'NC_000964.3\\');\\nINSERT INTO \"codons\" VALUES(\\'ATT\\',45772,\\'I\\',11,\\'NC_000964.3\\');\\nINSERT INTO \"codons\" VALUES(\\'GCA\\',26724,\\'A\\',11,\\'NC_000964.3\\');\\nINSERT INTO \"codons\" VALUES(\\'TAT\\',28079,\\'Y\\',11,\\'NC_000964.3\\');\\nINSERT INTO \"codons\" VALUES(\\'GGG\\',13778,\\'G\\',11,\\'NC_000964.3\\');\\nINSERT INTO \"codons\" VALUES(\\'GTC\\',21390,\\'V\\',11,\\'NC_000964.3\\');\\nINSERT INTO \"codons\" VALUES(\\'CCT\\',12907,\\'P\\',11,\\'NC_000964.3\\');\\nINSERT INTO \"codons\" VALUES(\\'GTT\\',23705,\\'V\\',11,\\'NC_000964.3\\');\\nINSERT INTO \"codons\" VALUES(\\'GCG\\',24868,\\'A\\',11,\\'NC_000964.3\\');\\nINSERT INTO \"codons\" VALUES(\\'TCT\\',15838,\\'S\\',11,\\'NC_000964.3\\');\\nINSERT INTO \"codons\" VALUES(\\'CTC\\',13425,\\'L\\',11,\\'NC_000964.3\\');\\nINSERT INTO \"codons\" VALUES(\\'CCA\\',8598,\\'P\\',11,\\'NC_000964.3\\');\\nINSERT INTO \"codons\" VALUES(\\'GGA\\',26788,\\'G\\',11,\\'NC_000964.3\\');\\nINSERT INTO \"codons\" VALUES(\\'CGA\\',4969,\\'R\\',11,\\'NC_000964.3\\');\\nINSERT INTO \"codons\" VALUES(\\'GTA\\',16457,\\'V\\',11,\\'NC_000964.3\\');\\nINSERT INTO \"codons\" VALUES(\\'GTG\\',21479,\\'V\\',11,\\'NC_000964.3\\');\\nINSERT INTO \"codons\" VALUES(\\'TTC\\',17452,\\'F\\',11,\\'NC_000964.3\\');\\nINSERT INTO \"codons\" VALUES(\\'CGC\\',10408,\\'R\\',11,\\'NC_000964.3\\');\\nINSERT INTO \"codons\" VALUES(\\'CAG\\',23007,\\'Q\\',11,\\'NC_000964.3\\');\\nINSERT INTO \"codons\" VALUES(\\'CGG\\',7857,\\'R\\',11,\\'NC_000964.3\\');\\nINSERT INTO \"codons\" VALUES(\\'CGT\\',9149,\\'R\\',11,\\'NC_000964.3\\');\\nINSERT INTO \"codons\" VALUES(\\'CTA\\',6088,\\'L\\',11,\\'NC_000964.3\\');\\nINSERT INTO \"codons\" VALUES(\\'AGG\\',4712,\\'R\\',11,\\'NC_000964.3\\');\\nINSERT INTO \"codons\" VALUES(\\'GGT\\',15644,\\'G\\',11,\\'NC_000964.3\\');\\nINSERT INTO \"codons\" VALUES(\\'TAG\\',602,\\'*\\',11,\\'NC_000964.3\\');\\nINSERT INTO \"codons\" VALUES(\\'TGC\\',5297,\\'C\\',11,\\'NC_000964.3\\');\\nINSERT INTO \"codons\" VALUES(\\'TCG\\',7738,\\'S\\',11,\\'NC_000964.3\\');\\nINSERT INTO \"codons\" VALUES(\\'TAA\\',2675,\\'*\\',11,\\'NC_000964.3\\');\\nINSERT INTO \"codons\" VALUES(\\'TTG\\',553,\\'M\\',11,\\'NC_000964.3\\');\\nINSERT INTO \"codons\" VALUES(\\'TGA\\',960,\\'*\\',11,\\'NC_000964.3\\');\\nINSERT INTO \"codons\" VALUES(\\'TGT\\',4386,\\'C\\',11,\\'NC_000964.3\\');\\nINSERT INTO \"codons\" VALUES(\\'GTG\\',387,\\'M\\',11,\\'NC_000964.3\\');\\nINSERT INTO \"codons\" VALUES(\\'ATT\\',8,\\'M\\',11,\\'NC_000964.3\\');\\nINSERT INTO \"codons\" VALUES(\\'ATC\\',1,\\'M\\',11,\\'NC_000964.3\\');\\nINSERT INTO \"codons\" VALUES(\\'CTG\\',5,\\'M\\',11,\\'NC_000964.3\\');\\nCREATE TABLE \\'organisms\\' (\\n            \\'id\\' TEXT PRIMARY KEY,\\n            \\'description\\' TEXT NOT NULL,\\n            \\'organism\\' TEXT NOT NULL\\n        );\\nINSERT INTO \"organisms\" VALUES(\\'NC_000964.3\\',\\'Bacillus subtilis subsp. subtilis str. 168 complete genome\\',\\'Bacillus subtilis subsp. subtilis str. 168\\');\\nCREATE TABLE \\'transl_tables\\' (\\n            \\'transl_table\\' INT PRIMARY KEY\\n        );\\nINSERT INTO \"transl_tables\" VALUES(11);\\nCOMMIT;'"
      ]
     },
     "execution_count": 396,
     "metadata": {},
     "output_type": "execute_result"
    }
   ],
   "source": [
    "c.dump_codon_database()"
   ]
  },
  {
   "cell_type": "code",
   "execution_count": null,
   "metadata": {},
   "outputs": [],
   "source": []
  }
 ],
 "metadata": {
  "kernelspec": {
   "display_name": "Python 3",
   "language": "python",
   "name": "python3"
  },
  "language_info": {
   "codemirror_mode": {
    "name": "ipython",
    "version": 3
   },
   "file_extension": ".py",
   "mimetype": "text/x-python",
   "name": "python",
   "nbconvert_exporter": "python",
   "pygments_lexer": "ipython3",
   "version": "3.8.1"
  }
 },
 "nbformat": 4,
 "nbformat_minor": 2
}
